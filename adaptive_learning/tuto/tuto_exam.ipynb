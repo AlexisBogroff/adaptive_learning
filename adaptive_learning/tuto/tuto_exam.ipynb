{
 "metadata": {
  "language_info": {
   "codemirror_mode": {
    "name": "ipython",
    "version": 3
   },
   "file_extension": ".py",
   "mimetype": "text/x-python",
   "name": "python",
   "nbconvert_exporter": "python",
   "pygments_lexer": "ipython3",
   "version": "3.6.2-final"
  },
  "orig_nbformat": 2,
  "kernelspec": {
   "name": "python3",
   "display_name": "Python 3",
   "language": "python"
  }
 },
 "nbformat": 4,
 "nbformat_minor": 2,
 "cells": [
  {
   "cell_type": "code",
   "execution_count": 1,
   "metadata": {},
   "outputs": [],
   "source": [
    "from adaptive_learning.questionnaires.exam import Exam\n",
    "from adaptive_learning.questionnaires.question import Question\n",
    "from adaptive_learning.questionnaires.answer import Answer"
   ]
  },
  {
   "source": [
    "# Basic"
   ],
   "cell_type": "markdown",
   "metadata": {}
  },
  {
   "source": [
    "## Exam object"
   ],
   "cell_type": "markdown",
   "metadata": {}
  },
  {
   "source": [
    "Instanciate exam object"
   ],
   "cell_type": "markdown",
   "metadata": {}
  },
  {
   "cell_type": "code",
   "execution_count": 2,
   "metadata": {},
   "outputs": [],
   "source": [
    "exam = Exam()"
   ]
  },
  {
   "source": [
    "### Set its main properties"
   ],
   "cell_type": "markdown",
   "metadata": {}
  },
  {
   "cell_type": "code",
   "execution_count": 3,
   "metadata": {},
   "outputs": [],
   "source": [
    "exam.set_properties_from_input_main()"
   ]
  },
  {
   "source": [
    "### Set its extra properties"
   ],
   "cell_type": "markdown",
   "metadata": {}
  },
  {
   "cell_type": "code",
   "execution_count": 4,
   "metadata": {},
   "outputs": [],
   "source": [
    "exam.set_properties_from_input_extra()"
   ]
  },
  {
   "source": [
    "### Add new question to an exam"
   ],
   "cell_type": "markdown",
   "metadata": {}
  },
  {
   "cell_type": "code",
   "execution_count": 5,
   "metadata": {},
   "outputs": [],
   "source": [
    "exam.add_question(method='create')"
   ]
  },
  {
   "source": [
    "### Add existing question to an exam"
   ],
   "cell_type": "markdown",
   "metadata": {}
  },
  {
   "cell_type": "code",
   "execution_count": 6,
   "metadata": {},
   "outputs": [],
   "source": [
    "exam.add_question(method='load', load_id='e52894e3-d817-44b6-bdd7-ab8ce2857322')"
   ]
  },
  {
   "source": [
    "### Show an exam properties and questions"
   ],
   "cell_type": "markdown",
   "metadata": {}
  },
  {
   "cell_type": "code",
   "execution_count": 7,
   "metadata": {},
   "outputs": [
    {
     "output_type": "stream",
     "name": "stdout",
     "text": [
      "id: \ntitle: Debug exam\ndescription: This is for debug \n\nrandomize_questions_order: False\nauto_rebase_grade: False\ngrade_base: 100\n\nquestions\n\t(1.0) dev: Are you happy?\n\t(1.0) mcq: Are empty and none any different?\n"
     ]
    }
   ],
   "source": [
    "exam.show()"
   ]
  },
  {
   "cell_type": "code",
   "execution_count": 8,
   "metadata": {},
   "outputs": [
    {
     "output_type": "stream",
     "name": "stdout",
     "text": [
      "title: Debug exam, id: \n"
     ]
    }
   ],
   "source": [
    "print(exam)"
   ]
  },
  {
   "source": [
    "### Save an exam\n",
    "This creates an id for the exam"
   ],
   "cell_type": "markdown",
   "metadata": {}
  },
  {
   "cell_type": "code",
   "execution_count": 9,
   "metadata": {},
   "outputs": [],
   "source": [
    "exam.save_new_to_db()"
   ]
  },
  {
   "cell_type": "code",
   "execution_count": 10,
   "metadata": {},
   "outputs": [
    {
     "output_type": "stream",
     "name": "stdout",
     "text": [
      "title: Debug exam, id: f113bca1-12a5-4b46-832a-70b4a7593c28\n"
     ]
    }
   ],
   "source": [
    "print(exam)"
   ]
  },
  {
   "source": [
    "### Load an exam"
   ],
   "cell_type": "markdown",
   "metadata": {}
  },
  {
   "cell_type": "code",
   "execution_count": 11,
   "metadata": {},
   "outputs": [],
   "source": [
    "exam.load_exam(\"22df293d-1347-497e-8056-93a484e55a88\")"
   ]
  },
  {
   "cell_type": "code",
   "execution_count": 12,
   "metadata": {},
   "outputs": [
    {
     "output_type": "stream",
     "name": "stdout",
     "text": [
      "id: 22df293d-1347-497e-8056-93a484e55a88\ntitle: Debug exam\ndescription: This is for debug purpose\n\nrandomize_questions_order: True\nauto_rebase_grade: True\ngrade_base: 20\n\nquestions\n\t(1.0) mcq: Debug question\n\t(1.0) mcq: Are empty and none any different?\n"
     ]
    }
   ],
   "source": [
    "exam.show()"
   ]
  },
  {
   "source": [
    "### Show the list of exams in db"
   ],
   "cell_type": "markdown",
   "metadata": {}
  },
  {
   "cell_type": "code",
   "execution_count": 13,
   "metadata": {},
   "outputs": [
    {
     "output_type": "stream",
     "name": "stdout",
     "text": [
      "('title', 'Debug exam') ('id', '22df293d-1347-497e-8056-93a484e55a88')\n('title', 'Debug exam') ('id', 'f113bca1-12a5-4b46-832a-70b4a7593c28')\n"
     ]
    }
   ],
   "source": [
    "exam.show_list_of_exams()"
   ]
  },
  {
   "source": [
    "### Modify an exam"
   ],
   "cell_type": "markdown",
   "metadata": {}
  },
  {
   "cell_type": "code",
   "execution_count": null,
   "metadata": {},
   "outputs": [],
   "source": []
  },
  {
   "source": [
    "## Question object"
   ],
   "cell_type": "markdown",
   "metadata": {}
  },
  {
   "source": [
    "Instanciate question object"
   ],
   "cell_type": "markdown",
   "metadata": {}
  },
  {
   "cell_type": "code",
   "execution_count": 14,
   "metadata": {},
   "outputs": [],
   "source": [
    "question = Question()"
   ]
  },
  {
   "source": [
    "### Create a question"
   ],
   "cell_type": "markdown",
   "metadata": {}
  },
  {
   "cell_type": "code",
   "execution_count": 17,
   "metadata": {},
   "outputs": [],
   "source": [
    "question.create_question()"
   ]
  },
  {
   "source": [
    "### Add answers to a question"
   ],
   "cell_type": "markdown",
   "metadata": {}
  },
  {
   "cell_type": "code",
   "execution_count": 20,
   "metadata": {},
   "outputs": [],
   "source": [
    "question.add_answer()"
   ]
  },
  {
   "source": [
    "### Show a question properties and answers"
   ],
   "cell_type": "markdown",
   "metadata": {}
  },
  {
   "cell_type": "code",
   "execution_count": 21,
   "metadata": {},
   "outputs": [
    {
     "output_type": "stream",
     "name": "stdout",
     "text": [
      "id: \ntext: Which structure can iterate over multiple elements of an object?\ntype: mcq\nkeywords: programming, structures, basics\n\nuse_question: True\nnb_points: 1.0\ndifficulty: 1\nnotif_correct_answers: True\nnotif_num_exact_answers: False\nrandomize_answers_order: True\n\nanswers\n\t{'text': 'for loop', 'is_correct': True, 'use_answer': True, 'position_id': 1}\n\t{'text': 'If else', 'is_correct': False, 'use_answer': True, 'position_id': 2}\n\t{'text': 'While', 'is_correct': True, 'use_answer': True, 'position_id': 3}\n"
     ]
    }
   ],
   "source": [
    "question.show()"
   ]
  },
  {
   "cell_type": "code",
   "execution_count": 23,
   "metadata": {},
   "outputs": [
    {
     "output_type": "stream",
     "name": "stdout",
     "text": [
      "text: Which structure can iterate over multiple elements of an object?, id: ae9ecddb-3947-4d1a-bc71-01bb510d5760\n"
     ]
    }
   ],
   "source": [
    "print(question)"
   ]
  },
  {
   "source": [
    "### Save a question"
   ],
   "cell_type": "markdown",
   "metadata": {}
  },
  {
   "cell_type": "code",
   "execution_count": 22,
   "metadata": {},
   "outputs": [],
   "source": [
    "question.save_new_to_db()"
   ]
  },
  {
   "source": [
    "### Load a question"
   ],
   "cell_type": "markdown",
   "metadata": {}
  },
  {
   "cell_type": "code",
   "execution_count": 24,
   "metadata": {},
   "outputs": [],
   "source": [
    "question = Question()\n",
    "question.load_question('e52894e3-d817-44b6-bdd7-ab8ce2857322')"
   ]
  },
  {
   "cell_type": "code",
   "execution_count": 25,
   "metadata": {},
   "outputs": [
    {
     "output_type": "stream",
     "name": "stdout",
     "text": [
      "id: e52894e3-d817-44b6-bdd7-ab8ce2857322\ntext: Are empty and none any different?\ntype: mcq\nkeywords: programming, basics\n\nuse_question: True\nnb_points: 1.0\ndifficulty: 1\nnotif_correct_answers: True\nnotif_num_exact_answers: False\nrandomize_answers_order: True\n\nanswers\n\t{'text': 'yes, none corresponds to a missing value', 'is_correct': True, 'use_answer': True, 'position_id': 1}\n\t{'text': 'No, these are synonyms', 'is_correct': False, 'use_answer': True, 'position_id': 2}\n\t{'text': \"No, but don't know why\", 'is_correct': False, 'use_answer': True, 'position_id': 3}\n"
     ]
    }
   ],
   "source": [
    "question.show()"
   ]
  },
  {
   "source": [
    "### Show the list of questions in db"
   ],
   "cell_type": "markdown",
   "metadata": {}
  },
  {
   "cell_type": "code",
   "execution_count": 26,
   "metadata": {},
   "outputs": [
    {
     "output_type": "stream",
     "name": "stdout",
     "text": [
      "('text', 'Are empty and none any different?') ('id', 'e52894e3-d817-44b6-bdd7-ab8ce2857322')\n('text', 'Which structure can iterate over multiple elements of an object?') ('id', 'ae9ecddb-3947-4d1a-bc71-01bb510d5760')\n"
     ]
    }
   ],
   "source": [
    "question.show_list_of_questions()"
   ]
  },
  {
   "cell_type": "code",
   "execution_count": null,
   "metadata": {},
   "outputs": [],
   "source": []
  }
 ]
}