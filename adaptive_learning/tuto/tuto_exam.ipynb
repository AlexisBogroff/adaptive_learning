{
 "metadata": {
  "language_info": {
   "codemirror_mode": {
    "name": "ipython",
    "version": 3
   },
   "file_extension": ".py",
   "mimetype": "text/x-python",
   "name": "python",
   "nbconvert_exporter": "python",
   "pygments_lexer": "ipython3",
   "version": "3.6.2-final"
  },
  "orig_nbformat": 2,
  "kernelspec": {
   "name": "python3",
   "display_name": "Python 3",
   "language": "python"
  }
 },
 "nbformat": 4,
 "nbformat_minor": 2,
 "cells": [
  {
   "cell_type": "code",
   "execution_count": 1,
   "metadata": {},
   "outputs": [],
   "source": [
    "from adaptive_learning.exam import Exam, Question, Answer"
   ]
  },
  {
   "source": [
    "# Basic"
   ],
   "cell_type": "markdown",
   "metadata": {}
  },
  {
   "source": [
    "## Exam object"
   ],
   "cell_type": "markdown",
   "metadata": {}
  },
  {
   "source": [
    "### Create an exam"
   ],
   "cell_type": "markdown",
   "metadata": {}
  },
  {
   "cell_type": "code",
   "execution_count": 2,
   "metadata": {},
   "outputs": [],
   "source": [
    "exam = Exam()"
   ]
  },
  {
   "source": [
    "### Add new question to an exam"
   ],
   "cell_type": "markdown",
   "metadata": {}
  },
  {
   "cell_type": "code",
   "execution_count": 3,
   "metadata": {},
   "outputs": [],
   "source": [
    "exam.add_question()"
   ]
  },
  {
   "source": [
    "### Add existing question to an exam"
   ],
   "cell_type": "markdown",
   "metadata": {}
  },
  {
   "cell_type": "code",
   "execution_count": 5,
   "metadata": {},
   "outputs": [],
   "source": [
    "exam.add_question(method='load', load_id='9b693fe2-6732-4daf-83a8-00ad25ceaadb')\n",
    "exam.add_question(method='load', load_id='7ef1cbcc-ddda-4e64-97e9-aa8bd62bf407')"
   ]
  },
  {
   "source": [
    "### Save an exam"
   ],
   "cell_type": "markdown",
   "metadata": {}
  },
  {
   "cell_type": "code",
   "execution_count": null,
   "metadata": {},
   "outputs": [],
   "source": []
  },
  {
   "source": [
    "### Show an exam properties and questions"
   ],
   "cell_type": "markdown",
   "metadata": {}
  },
  {
   "cell_type": "code",
   "execution_count": 6,
   "metadata": {},
   "outputs": [
    {
     "output_type": "stream",
     "name": "stdout",
     "text": [
      "id: \ntitle: \ndescription: \nparameters\n\trandomize_questions_order: True\n\tauto_rebase_grade: True\n\tgrade_base: 20\nquestions\n\t(1.0) mcq: First debug question\n\t(1.0) mcq: Debug question\n"
     ]
    }
   ],
   "source": [
    "exam.show()"
   ]
  },
  {
   "source": [
    "### Load an exam"
   ],
   "cell_type": "markdown",
   "metadata": {}
  },
  {
   "cell_type": "code",
   "execution_count": 4,
   "metadata": {},
   "outputs": [],
   "source": [
    "exam.load_exam(\"f67d625b-b569-487e-91fc-0ac14ca0bc81\")"
   ]
  },
  {
   "source": [
    "### Show the list of exams in db"
   ],
   "cell_type": "markdown",
   "metadata": {}
  },
  {
   "cell_type": "code",
   "execution_count": 7,
   "metadata": {},
   "outputs": [
    {
     "output_type": "stream",
     "name": "stdout",
     "text": [
      "('title', '') ('id', 'c85779fd-8e59-4687-80cb-7a7675d3868a')\n('title', '') ('id', '327e93a3-e791-424b-a2f7-379e736e87f1')\n('title', '') ('id', 'a71eac65-bc43-4f23-a38c-b255a34460f5')\n('title', '') ('id', 'f67d625b-b569-487e-91fc-0ac14ca0bc81')\n"
     ]
    }
   ],
   "source": [
    "exam.show_list_of_exams()"
   ]
  },
  {
   "source": [
    "### Modify an exam"
   ],
   "cell_type": "markdown",
   "metadata": {}
  },
  {
   "cell_type": "code",
   "execution_count": null,
   "metadata": {},
   "outputs": [],
   "source": []
  },
  {
   "source": [
    "## Question object"
   ],
   "cell_type": "markdown",
   "metadata": {}
  },
  {
   "source": [
    "### Create a question"
   ],
   "cell_type": "markdown",
   "metadata": {}
  },
  {
   "cell_type": "code",
   "execution_count": 9,
   "metadata": {},
   "outputs": [],
   "source": [
    "question = Question()\n",
    "question.set_parameters_from_input_main()"
   ]
  },
  {
   "source": [
    "### Add answers to a question"
   ],
   "cell_type": "markdown",
   "metadata": {}
  },
  {
   "cell_type": "code",
   "execution_count": 5,
   "metadata": {},
   "outputs": [],
   "source": [
    "question.add_answer()"
   ]
  },
  {
   "source": [
    "### Save a question"
   ],
   "cell_type": "markdown",
   "metadata": {}
  },
  {
   "cell_type": "code",
   "execution_count": 10,
   "metadata": {},
   "outputs": [],
   "source": [
    "question.save_new_to_db()"
   ]
  },
  {
   "source": [
    "### Show a question properties and answers"
   ],
   "cell_type": "markdown",
   "metadata": {}
  },
  {
   "cell_type": "code",
   "execution_count": 2,
   "metadata": {},
   "outputs": [
    {
     "output_type": "stream",
     "name": "stdout",
     "text": [
      "id: 9b693fe2-6732-4daf-83a8-00ad25ceaadb\ntext: First debug question\ntype: mcq\nkeywords: programming, python, structures\nparameters\n\tuse_question: True\n\tnb_points: 1.0\n\tdifficulty: 1\n\tnotif_correct_answers: True\n\tnotif_num_exact_answers: False\n\trandomize_answers_order: True\nanswers\n\t\n"
     ]
    }
   ],
   "source": [
    "question.show()"
   ]
  },
  {
   "cell_type": "code",
   "execution_count": 3,
   "metadata": {},
   "outputs": [
    {
     "output_type": "stream",
     "name": "stdout",
     "text": [
      "text: First debug question, id: 9b693fe2-6732-4daf-83a8-00ad25ceaadb\n"
     ]
    }
   ],
   "source": [
    "print(question)"
   ]
  },
  {
   "source": [
    "### Load a question"
   ],
   "cell_type": "markdown",
   "metadata": {}
  },
  {
   "cell_type": "code",
   "execution_count": 3,
   "metadata": {},
   "outputs": [],
   "source": [
    "question = Question()\n",
    "question.load_question('9b693fe2-6732-4daf-83a8-00ad25ceaadb')"
   ]
  },
  {
   "source": [
    "### Show the list of questions in db"
   ],
   "cell_type": "markdown",
   "metadata": {}
  },
  {
   "cell_type": "code",
   "execution_count": null,
   "metadata": {},
   "outputs": [],
   "source": []
  }
 ]
}