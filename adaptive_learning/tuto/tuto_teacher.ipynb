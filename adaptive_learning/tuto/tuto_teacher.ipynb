{
 "metadata": {
  "language_info": {
   "codemirror_mode": {
    "name": "ipython",
    "version": 3
   },
   "file_extension": ".py",
   "mimetype": "text/x-python",
   "name": "python",
   "nbconvert_exporter": "python",
   "pygments_lexer": "ipython3",
   "version": "3.6.2-final"
  },
  "orig_nbformat": 2,
  "kernelspec": {
   "name": "python3",
   "display_name": "Python 3",
   "language": "python"
  }
 },
 "nbformat": 4,
 "nbformat_minor": 2,
 "cells": [
  {
   "cell_type": "code",
   "execution_count": 1,
   "metadata": {},
   "outputs": [],
   "source": [
    "from adaptive_learning.questionnaires.exam import Exam\n",
    "from adaptive_learning.questionnaires.question import create_question, load_question\n",
    "from adaptive_learning.questionnaires.answer import Answer\n",
    "from adaptive_learning import funcs\n",
    "from adaptive_learning import db\n",
    "from adaptive_learning import settings"
   ]
  },
  {
   "source": [
    "# Get started"
   ],
   "cell_type": "markdown",
   "metadata": {}
  },
  {
   "source": [
    "## Exam object functionalities"
   ],
   "cell_type": "markdown",
   "metadata": {}
  },
  {
   "source": [
    "### Create full exam one-shot (along its questions and answers)"
   ],
   "cell_type": "markdown",
   "metadata": {}
  },
  {
   "cell_type": "code",
   "execution_count": 2,
   "metadata": {},
   "outputs": [],
   "source": [
    "exam = Exam()"
   ]
  },
  {
   "source": [
    "### Modify its properties"
   ],
   "cell_type": "markdown",
   "metadata": {}
  },
  {
   "cell_type": "code",
   "execution_count": 3,
   "metadata": {},
   "outputs": [],
   "source": [
    "exam.set_title_from_input()\n",
    "exam.set_description_from_input()\n",
    "exam.set_auto_rebase_grade_from_input()\n",
    "exam.set_grade_base_from_input()\n",
    "exam.set_randomize_questions_from_input()"
   ]
  },
  {
   "source": [
    "### Add questions to exam"
   ],
   "cell_type": "markdown",
   "metadata": {}
  },
  {
   "cell_type": "code",
   "execution_count": 5,
   "metadata": {},
   "outputs": [],
   "source": [
    "# New questions\n",
    "exam.add_questions()"
   ]
  },
  {
   "cell_type": "code",
   "execution_count": 6,
   "metadata": {},
   "outputs": [],
   "source": [
    "# Existing questions\n",
    "# TODO\n",
    "exam.add_question('35925b3e-3a86-46a8-a8e0-8f9d3ff07958')"
   ]
  },
  {
   "source": [
    "### Show exam properties and questions"
   ],
   "cell_type": "markdown",
   "metadata": {}
  },
  {
   "cell_type": "code",
   "execution_count": 4,
   "metadata": {},
   "outputs": [
    {
     "output_type": "stream",
     "name": "stdout",
     "text": [
      "id: 11abaf1c-fc7e-4b60-8b94-4261eda4a635\ntitle: debud debug debug \ndescription: debug debug deubg\n\nrandomize_questions: False\nauto_rebase_grade: False\ngrade_base: 100\n\nquestions\n\t(1.0) mcq: do you like wine?\n\t(1.0) mcq: Do you like bananas?\n"
     ]
    }
   ],
   "source": [
    "exam.show()"
   ]
  },
  {
   "cell_type": "code",
   "execution_count": 3,
   "metadata": {},
   "outputs": [
    {
     "output_type": "stream",
     "name": "stdout",
     "text": [
      "title: debud debug debug , id: 11abaf1c-fc7e-4b60-8b94-4261eda4a635\n"
     ]
    }
   ],
   "source": [
    "print(exam)"
   ]
  },
  {
   "source": [
    "### Save an exam"
   ],
   "cell_type": "markdown",
   "metadata": {}
  },
  {
   "cell_type": "code",
   "execution_count": 8,
   "metadata": {},
   "outputs": [],
   "source": [
    "exam.save()"
   ]
  },
  {
   "source": [
    "### Load an exam"
   ],
   "cell_type": "markdown",
   "metadata": {}
  },
  {
   "cell_type": "code",
   "execution_count": 2,
   "metadata": {},
   "outputs": [],
   "source": [
    "exam = Exam(exam_id=\"11abaf1c-fc7e-4b60-8b94-4261eda4a635\")"
   ]
  },
  {
   "source": [
    "### Show the list of exams in db"
   ],
   "cell_type": "markdown",
   "metadata": {}
  },
  {
   "cell_type": "code",
   "execution_count": 5,
   "metadata": {},
   "outputs": [],
   "source": [
    "# Load exam table\n",
    "path = settings.__PATH_EXAMS__\n",
    "table = db.load_table(path)"
   ]
  },
  {
   "cell_type": "code",
   "execution_count": 6,
   "metadata": {},
   "outputs": [
    {
     "output_type": "stream",
     "name": "stdout",
     "text": [
      "('grade_base', 20) ('description', 'This is for debug purpose')\n('grade_base', 100) ('description', 'This is for debug ')\n('grade_base', 20) ('description', 'This is still a debug exam')\n('grade_base', 20) ('description', '')\n('grade_base', 20) ('description', 'debug')\n('grade_base', 20) ('description', 'debug')\n('grade_base', 20) ('description', 'zaef')\n('grade_base', 20) ('description', 'azef')\n('grade_base', 20) ('description', 'This may work better')\n('grade_base', 20) ('description', 'This is an exam')\n('grade_base', 100) ('description', 'debug debug deubg')\n"
     ]
    }
   ],
   "source": [
    "# Show specific fields\n",
    "db.show_table(table, ['grade_base', 'description'])"
   ]
  },
  {
   "source": [
    "### Modify an exam"
   ],
   "cell_type": "markdown",
   "metadata": {}
  },
  {
   "cell_type": "code",
   "execution_count": null,
   "metadata": {},
   "outputs": [],
   "source": [
    "# TODO"
   ]
  },
  {
   "source": [
    "## Question object functionalities"
   ],
   "cell_type": "markdown",
   "metadata": {}
  },
  {
   "source": [
    "### Create a question"
   ],
   "cell_type": "markdown",
   "metadata": {}
  },
  {
   "cell_type": "code",
   "execution_count": 7,
   "metadata": {},
   "outputs": [],
   "source": [
    "question = create_question()"
   ]
  },
  {
   "source": [
    "### Add answers to a question"
   ],
   "cell_type": "markdown",
   "metadata": {}
  },
  {
   "cell_type": "code",
   "execution_count": 21,
   "metadata": {},
   "outputs": [],
   "source": [
    "# TODO"
   ]
  },
  {
   "source": [
    "### Show a question properties and answers"
   ],
   "cell_type": "markdown",
   "metadata": {}
  },
  {
   "cell_type": "code",
   "execution_count": 13,
   "metadata": {},
   "outputs": [
    {
     "output_type": "stream",
     "name": "stdout",
     "text": [
      "id: c82bbb84-9f86-424e-af49-1d5dec959c55\ntext: qse\ntype: mcq\nkeywords: azeg\n\nuse_question: True\nnb_points: 1.0\ndifficulty: 1\n\n"
     ]
    }
   ],
   "source": [
    "question.show()"
   ]
  },
  {
   "cell_type": "code",
   "execution_count": 4,
   "metadata": {},
   "outputs": [
    {
     "output_type": "stream",
     "name": "stdout",
     "text": [
      "id: e86919bf-0ab0-4b6f-88ac-e989ca2ee8ac\ntext: azef\ntype: mcq\nkeywords: azeg,azef,azef\n\nuse_question: True\nnb_points: 1.0\ndifficulty: 1\n\ntype: mcq\nnotif_correct_answers: True\nnotif_num_exact_answers: False\nrandomize_answers_order: True\n\nanswers\n\t{'text': 'azeg', 'is_correct': True, 'use_answer': True}\n\t{'text': 'asrgqdrsg', 'is_correct': False, 'use_answer': True}\n"
     ]
    }
   ],
   "source": [
    "question.show_detailed()"
   ]
  },
  {
   "cell_type": "code",
   "execution_count": 14,
   "metadata": {},
   "outputs": [
    {
     "output_type": "stream",
     "name": "stdout",
     "text": [
      "text: qse, id: c82bbb84-9f86-424e-af49-1d5dec959c55\n"
     ]
    }
   ],
   "source": [
    "print(question)"
   ]
  },
  {
   "source": [
    "### Save a question"
   ],
   "cell_type": "markdown",
   "metadata": {}
  },
  {
   "cell_type": "code",
   "execution_count": 9,
   "metadata": {},
   "outputs": [],
   "source": [
    "question.save()"
   ]
  },
  {
   "source": [
    "### Load a question"
   ],
   "cell_type": "markdown",
   "metadata": {}
  },
  {
   "cell_type": "code",
   "execution_count": 2,
   "metadata": {},
   "outputs": [],
   "source": [
    "load_id='e86919bf-0ab0-4b6f-88ac-e989ca2ee8ac'\n",
    "q_load = load_question(load_id=load_id)"
   ]
  },
  {
   "source": [
    "### Show the list of questions in db"
   ],
   "cell_type": "markdown",
   "metadata": {}
  },
  {
   "cell_type": "code",
   "execution_count": 26,
   "metadata": {},
   "outputs": [],
   "source": [
    "# Load questions table\n",
    "path = settings.__PATH_QUESTIONS__\n",
    "table = db.load_table(path)"
   ]
  },
  {
   "cell_type": "code",
   "execution_count": 27,
   "metadata": {},
   "outputs": [
    {
     "output_type": "stream",
     "name": "stdout",
     "text": [
      "('type', 'mcq') ('text', 'Are empty and none any different?')\n('type', 'mcq') ('text', 'Which structure can iterate over multiple elements of an object?')\n('type', 'exact') ('text', 'What is the maximum number of characters for python rows?')\n('type', 'mcq') ('text', 'debug q')\n('type', '') ('text', '')\n('type', '') ('text', '')\n('type', '') ('text', '')\n('type', '') ('text', '')\n('type', '') ('text', '')\n('type', '') ('text', '')\n('type', '') ('text', '')\n('type', '') ('text', '')\n('type', 'mcq') ('text', 'this is an mcq question')\n('type', 'mcq') ('text', 'azeg')\n('type', 'mcq') ('text', 'azef')\n"
     ]
    }
   ],
   "source": [
    "# Show specific fields\n",
    "db.show_table(table, ['type', 'text'])"
   ]
  },
  {
   "source": [
    "## Use cases"
   ],
   "cell_type": "markdown",
   "metadata": {}
  },
  {
   "source": [
    "### Create an exam with its settings, questions and answers"
   ],
   "cell_type": "markdown",
   "metadata": {}
  },
  {
   "cell_type": "code",
   "execution_count": 10,
   "metadata": {},
   "outputs": [
    {
     "output_type": "stream",
     "name": "stdout",
     "text": [
      "id: 2fbdcf88-6de9-44ed-802e-381fc37ccd81\ntitle: azefoihazef\ndescription: azefazef\n\nrandomize_questions: True\nauto_rebase_grade: True\ngrade_base: 20\n\nquestions\n\t(1.0) mcq: azefaezf\n\t(1.0) mcq: qozeihoiesh\n"
     ]
    }
   ],
   "source": [
    "exam = Exam()\n",
    "exam.show()\n",
    "exam.save()"
   ]
  },
  {
   "cell_type": "code",
   "execution_count": null,
   "metadata": {},
   "outputs": [],
   "source": []
  }
 ]
}